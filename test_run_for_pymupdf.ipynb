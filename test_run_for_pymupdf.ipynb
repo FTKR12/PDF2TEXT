{
 "cells": [
  {
   "cell_type": "code",
   "execution_count": 1,
   "metadata": {},
   "outputs": [],
   "source": [
    "input_pdf_path = \"./data/guideline.pdf\"\n",
    "output_dir = \"./output\""
   ]
  },
  {
   "cell_type": "code",
   "execution_count": 2,
   "metadata": {},
   "outputs": [],
   "source": [
    "# simple usage (not to pdf but to normal text)\n",
    "import pymupdf\n",
    "\n",
    "doc = pymupdf.open(input_pdf_path)\n",
    "texts = []\n",
    "for page in doc:\n",
    "  texts.append(page.get_text())\n",
    "\n",
    "with open(f'{output_dir}/pymupdf_text.txt', 'w', encoding=\"utf-8\") as f:\n",
    "    for text in texts:\n",
    "      f.write(text)"
   ]
  },
  {
   "cell_type": "code",
   "execution_count": 3,
   "metadata": {},
   "outputs": [],
   "source": [
    "# usage for conversion pdf into markdown\n",
    "import pymupdf\n",
    "from markdownify import markdownify as md\n",
    "\n",
    "doc = pymupdf.open(input_pdf_path)\n",
    "texts = []\n",
    "for page in doc:\n",
    "  texts.append(md(page.get_text()))\n",
    "\n",
    "with open(f'{output_dir}/pymupf_markdown.md', 'w', encoding=\"utf-8\") as f:\n",
    "    for text in texts:\n",
    "      f.write(text)"
   ]
  }
 ],
 "metadata": {
  "kernelspec": {
   "display_name": "Python 3",
   "language": "python",
   "name": "python3"
  },
  "language_info": {
   "codemirror_mode": {
    "name": "ipython",
    "version": 3
   },
   "file_extension": ".py",
   "mimetype": "text/x-python",
   "name": "python",
   "nbconvert_exporter": "python",
   "pygments_lexer": "ipython3",
   "version": "3.8.2"
  }
 },
 "nbformat": 4,
 "nbformat_minor": 2
}
