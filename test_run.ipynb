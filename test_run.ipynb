{
 "cells": [
  {
   "cell_type": "code",
   "execution_count": 6,
   "metadata": {},
   "outputs": [],
   "source": [
    "input_pdf_dir = \"data/guideline.pdf\"\n",
    "output_dir = \"./output\""
   ]
  },
  {
   "cell_type": "code",
   "execution_count": 7,
   "metadata": {},
   "outputs": [],
   "source": [
    "# simple usage (not to pdf but to normal text)\n",
    "import pymupdf\n",
    "doc = pymupdf.open(input_pdf_dir)\n",
    "texts = []\n",
    "for page in doc:\n",
    "  texts.append(page.get_text())\n",
    "\n",
    "with open(f'{output_dir}/text_ver.txt', 'w', encoding=\"utf-8\") as f:\n",
    "    for text in texts:\n",
    "      f.write(text)"
   ]
  },
  {
   "cell_type": "code",
   "execution_count": 9,
   "metadata": {},
   "outputs": [],
   "source": [
    "# usage for conversion pdf into markdown\n",
    "import pymupdf\n",
    "from markdownify import markdownify as md\n",
    "\n",
    "doc = pymupdf.open(input_pdf_dir)\n",
    "texts = []\n",
    "for page in doc:\n",
    "  texts.append(md(page.get_text()))\n",
    "\n",
    "with open(f'{output_dir}/markdown_ver.md', 'w', encoding=\"utf-8\") as f:\n",
    "    for text in texts:\n",
    "      f.write(text)"
   ]
  }
 ],
 "metadata": {
  "kernelspec": {
   "display_name": "Python 3",
   "language": "python",
   "name": "python3"
  },
  "language_info": {
   "codemirror_mode": {
    "name": "ipython",
    "version": 3
   },
   "file_extension": ".py",
   "mimetype": "text/x-python",
   "name": "python",
   "nbconvert_exporter": "python",
   "pygments_lexer": "ipython3",
   "version": "3.8.2"
  }
 },
 "nbformat": 4,
 "nbformat_minor": 2
}
