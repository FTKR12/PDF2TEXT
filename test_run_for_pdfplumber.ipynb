{
 "cells": [
  {
   "cell_type": "code",
   "execution_count": 3,
   "metadata": {},
   "outputs": [],
   "source": [
    "data = \"guideline\"\n",
    "input_pdf_path = f\"./data/{data}.pdf\"\n",
    "output_dir = f\"./output/{data}\""
   ]
  },
  {
   "cell_type": "code",
   "execution_count": 9,
   "metadata": {},
   "outputs": [
    {
     "name": "stdout",
     "output_type": "stream",
     "text": [
      "[[], [], [], [], [], [], [], [[['生産形態', '形態ごとの生産工程の事例\\n（灰色部分：本ガイドラインを適用する工程）', None, None, None, None, None, None, None, None, None, None, None, None], ['化学的合成に\\nよる原薬', '原薬出発物\\n質の製造', '', '原薬出発物質', '', '', '中間体の製造', '', '', '分離及び精', '', '', '物理的加工処', ''], [None, None, None, 'の工程への導', None, '', None, None, None, '製', None, None, '理及び包装', None], [None, None, None, '入', None, None, None, None, '', None, None, '', None, None], ['動物由来の原\\n薬', '器官、液体又\\nは組織の収\\n集', '細断、混合、\\n及び初期加工\\n処理', None, None, '', '原薬出発物質', '', '', '分離及び精', '', '', '物理的加工処', ''], [None, None, None, None, None, None, 'の工程への導', None, None, '製', None, None, '理及び包装', None], [None, None, None, None, None, None, '入', None, '', None, None, '', None, None], ['植物から抽出\\nする原薬', '植物の収集', '細断及び初期\\n抽出', None, None, '', '原薬出発物質', '', '', '分離及び精', '', '', '物理的加工処', ''], [None, None, None, None, None, None, 'の工程への導', None, None, '製', None, None, '理及び包装', None], [None, None, None, None, None, None, '入', None, '', None, None, '', None, None], ['原薬として使\\n用する生薬抽\\n出物', '植物の収集', '細断及び初期\\n抽出', None, None, '', None, None, '', '再抽出', '', '', '物理的加工処', ''], [None, None, None, None, None, None, None, None, '', None, None, None, '理及び包装', None], [None, None, None, None, None, None, None, None, None, None, None, '', None, None], ['粉砕又は粉末\\n化した生薬で\\n構成する原薬', '植物の収集\\n又は栽培及\\nび収穫', '細断／粉砕', None, None, '', None, None, '', '', '', '', '物理的加工処', ''], [None, None, None, None, None, None, None, None, '', None, None, None, '理及び包装', None], [None, None, None, None, None, None, None, None, None, None, None, '', None, None], ['バイオテクノ\\nロジー（発酵・\\n細胞培養）を応\\n用した原薬', 'マスターセ\\nルバンク及\\nびワーキン\\nグセルバン\\nクの確立', '', 'ワーキングセ', '', '', '細胞培養又は', '', '', '分離及び精', '', '', '物理的加工処', ''], [None, None, None, 'ルバンクの維', None, None, '発酵', None, None, '製', None, None, '理及び包装', None], [None, None, None, '持管理', None, '', None, None, '', None, None, '', None, None], [None, None, '', None, None, None, None, None, None, None, None, None, None, None], ['クラシカル発\\n酵を応用した\\n原薬', 'セルバンク\\nの確立', 'セルバンクの\\n維持管理', None, None, '', 'セルの発酵工', '', '', '分離及び精', '', '', '物理的加工処', ''], [None, None, None, None, None, None, '程への導入', None, None, '製', None, None, '理及び包装', None], [None, None, None, None, None, '', None, None, '', None, None, '', None, None]], [['ＧＭＰ要求事項の増大', '']]], [], [], [], [], [], [], [], [], [], [], [], [], [], [], [], [], [], [], [], [], [], [], [], [], [], [], [], [], [], [], [], [], [], [], [], [], [], [], [], [], [], [], [], [], [], [], [], [], [], [], []]\n"
     ]
    },
    {
     "ename": "TypeError",
     "evalue": "sequence item 0: expected str instance, list found",
     "output_type": "error",
     "traceback": [
      "\u001b[1;31m---------------------------------------------------------------------------\u001b[0m",
      "\u001b[1;31mTypeError\u001b[0m                                 Traceback (most recent call last)",
      "\u001b[1;32mC:\\Users\\TAKURO~1\\AppData\\Local\\Temp/ipykernel_18216/2472663933.py\u001b[0m in \u001b[0;36m<module>\u001b[1;34m\u001b[0m\n\u001b[0;32m      5\u001b[0m         \u001b[0mtexts\u001b[0m\u001b[1;33m.\u001b[0m\u001b[0mappend\u001b[0m\u001b[1;33m(\u001b[0m\u001b[0mpage\u001b[0m\u001b[1;33m.\u001b[0m\u001b[0mextract_tables\u001b[0m\u001b[1;33m(\u001b[0m\u001b[1;33m)\u001b[0m\u001b[1;33m)\u001b[0m\u001b[1;33m\u001b[0m\u001b[1;33m\u001b[0m\u001b[0m\n\u001b[0;32m      6\u001b[0m \u001b[0mprint\u001b[0m\u001b[1;33m(\u001b[0m\u001b[0mtexts\u001b[0m\u001b[1;33m)\u001b[0m\u001b[1;33m\u001b[0m\u001b[1;33m\u001b[0m\u001b[0m\n\u001b[1;32m----> 7\u001b[1;33m \u001b[0mmarkdown_texts\u001b[0m \u001b[1;33m=\u001b[0m \u001b[1;34m\"\\n\"\u001b[0m\u001b[1;33m.\u001b[0m\u001b[0mjoin\u001b[0m\u001b[1;33m(\u001b[0m\u001b[0mtexts\u001b[0m\u001b[1;33m)\u001b[0m\u001b[1;33m\u001b[0m\u001b[1;33m\u001b[0m\u001b[0m\n\u001b[0m\u001b[0;32m      8\u001b[0m \u001b[1;33m\u001b[0m\u001b[0m\n\u001b[0;32m      9\u001b[0m \u001b[1;32mwith\u001b[0m \u001b[0mopen\u001b[0m\u001b[1;33m(\u001b[0m\u001b[1;34mf'{output_dir}/pdfplumber_markdown.md'\u001b[0m\u001b[1;33m,\u001b[0m \u001b[1;34m'w'\u001b[0m\u001b[1;33m,\u001b[0m \u001b[0mencoding\u001b[0m\u001b[1;33m=\u001b[0m\u001b[1;34m\"utf-8\"\u001b[0m\u001b[1;33m)\u001b[0m \u001b[1;32mas\u001b[0m \u001b[0mf\u001b[0m\u001b[1;33m:\u001b[0m\u001b[1;33m\u001b[0m\u001b[1;33m\u001b[0m\u001b[0m\n",
      "\u001b[1;31mTypeError\u001b[0m: sequence item 0: expected str instance, list found"
     ]
    }
   ],
   "source": [
    "import pdfplumber\n",
    "texts = []\n",
    "with pdfplumber.open(input_pdf_path) as pdf:\n",
    "    for page in pdf.pages:\n",
    "        texts.append(page.extract_tables())\n",
    "print(texts)\n",
    "markdown_texts = \"\\n\".join(texts)\n",
    "\n",
    "with open(f'{output_dir}/pdfplumber_markdown.md', 'w', encoding=\"utf-8\") as f:\n",
    "    for text in texts:\n",
    "      f.write(text)"
   ]
  }
 ],
 "metadata": {
  "kernelspec": {
   "display_name": "Python 3",
   "language": "python",
   "name": "python3"
  },
  "language_info": {
   "codemirror_mode": {
    "name": "ipython",
    "version": 3
   },
   "file_extension": ".py",
   "mimetype": "text/x-python",
   "name": "python",
   "nbconvert_exporter": "python",
   "pygments_lexer": "ipython3",
   "version": "3.8.2"
  }
 },
 "nbformat": 4,
 "nbformat_minor": 2
}
