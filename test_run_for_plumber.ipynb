{
 "cells": [
  {
   "cell_type": "code",
   "execution_count": null,
   "metadata": {},
   "outputs": [],
   "source": [
    "import pdfplumber\n",
    "import pandas as pd\n",
    "from pdfplumber.utils import extract_text, get_bbox_overlap, obj_to_bbox\n",
    "\n",
    "def process_pdf(pdf_path):\n",
    "    pdf = pdfplumber.open(pdf_path)\n",
    "    all_text = []\n",
    "\n",
    "    for page in pdf.pages:\n",
    "        filtered_page = page\n",
    "        chars = filtered_page.chars\n",
    "\n",
    "        for table in page.find_tables():\n",
    "            first_table_char = page.crop(table.bbox).chars[0]\n",
    "            filtered_page = filtered_page.filter(lambda obj: \n",
    "                get_bbox_overlap(obj_to_bbox(obj), table.bbox) is None\n",
    "            )\n",
    "            chars = filtered_page.chars\n",
    "\n",
    "            df = pd.DataFrame(table.extract())\n",
    "            df.columns = df.iloc[0]\n",
    "            markdown = df.drop(0).to_markdown(index=False)\n",
    "\n",
    "            chars.append(first_table_char | {\"text\": markdown})\n",
    "\n",
    "        page_text = extract_text(chars, layout=True)\n",
    "        all_text.append(page_text)\n",
    "\n",
    "    pdf.close()\n",
    "    return all_text\n",
    "\n",
    "# Path to your PDF file\n",
    "pdf_path = r\"./data/guideline.pdf\"\n",
    "extracted_text = process_pdf(pdf_path)\n",
    "with open(\"./output/pdfplumber_text.txt\", \"w\") as f:\n",
    "  for text in extracted_text:\n",
    "    f.write(text)"
   ]
  }
 ],
 "metadata": {
  "kernelspec": {
   "display_name": "Python 3",
   "language": "python",
   "name": "python3"
  },
  "language_info": {
   "codemirror_mode": {
    "name": "ipython",
    "version": 3
   },
   "file_extension": ".py",
   "mimetype": "text/x-python",
   "name": "python",
   "nbconvert_exporter": "python",
   "pygments_lexer": "ipython3",
   "version": "3.8.2"
  }
 },
 "nbformat": 4,
 "nbformat_minor": 2
}
