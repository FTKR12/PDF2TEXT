{
 "cells": [
  {
   "cell_type": "code",
   "execution_count": null,
   "metadata": {},
   "outputs": [],
   "source": [
    "input_pdf_dir = \"./data\"\n",
    "data = \"tsusoku\"\n",
    "output_dir = f\"./output/{data}\""
   ]
  },
  {
   "cell_type": "code",
   "execution_count": null,
   "metadata": {},
   "outputs": [],
   "source": [
    "from langchain.document_loaders import PDFMinerLoader\n",
    "\n",
    "loader = PDFMinerLoader(f'{input_pdf_dir}/{data}.pdf')\n",
    "docs = loader.load()\n",
    "texts = []\n",
    "for doc in docs:\n",
    "  texts.append(doc.page_content)\n",
    "with open(f'{output_dir}/langchain_loader.txt', 'w', encoding=\"utf-8\") as f:\n",
    "    for text in texts:\n",
    "      f.write(text)"
   ]
  }
 ],
 "metadata": {
  "kernelspec": {
   "display_name": "Python 3",
   "language": "python",
   "name": "python3"
  },
  "language_info": {
   "codemirror_mode": {
    "name": "ipython",
    "version": 3
   },
   "file_extension": ".py",
   "mimetype": "text/x-python",
   "name": "python",
   "nbconvert_exporter": "python",
   "pygments_lexer": "ipython3",
   "version": "3.8.2"
  }
 },
 "nbformat": 4,
 "nbformat_minor": 2
}
