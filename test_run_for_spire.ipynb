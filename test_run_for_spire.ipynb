{
 "cells": [
  {
   "cell_type": "code",
   "execution_count": 4,
   "metadata": {},
   "outputs": [],
   "source": [
    "input_pdf_path = \"./data/guideline.pdf\"\n",
    "output_dir = \"./output\""
   ]
  },
  {
   "cell_type": "code",
   "execution_count": 10,
   "metadata": {},
   "outputs": [],
   "source": [
    "from spire.pdf import PdfDocument\n",
    "from spire.pdf import PdfTextExtractOptions\n",
    "from spire.pdf import PdfTextExtractor\n",
    "\n",
    "pdf = PdfDocument()\n",
    "pdf.LoadFromFile(input_pdf_path)\n",
    "\n",
    "extract_options = PdfTextExtractOptions()\n",
    "extract_options.IsSimpleExtraction = True # if False, keep layout\n",
    "\n",
    "texts = []\n",
    "for i in range(pdf.Pages.Count):\n",
    "    page = pdf.Pages.get_Item(i)\n",
    "    text_extractor = PdfTextExtractor(page)\n",
    "    text = text_extractor.ExtractText(extract_options)\n",
    "    texts.append(text)\n",
    "\n",
    "with open(f'{output_dir}/spire_text.txt', 'w', encoding=\"utf-8\") as f:\n",
    "    for text in texts:\n",
    "      f.write(text)"
   ]
  }
 ],
 "metadata": {
  "kernelspec": {
   "display_name": "Python 3",
   "language": "python",
   "name": "python3"
  },
  "language_info": {
   "codemirror_mode": {
    "name": "ipython",
    "version": 3
   },
   "file_extension": ".py",
   "mimetype": "text/x-python",
   "name": "python",
   "nbconvert_exporter": "python",
   "pygments_lexer": "ipython3",
   "version": "3.8.2"
  }
 },
 "nbformat": 4,
 "nbformat_minor": 2
}
